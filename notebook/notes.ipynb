{
 "cells": [
  {
   "cell_type": "code",
   "execution_count": null,
   "id": "d9466b98",
   "metadata": {},
   "outputs": [],
   "source": [
    "import os\n",
    "import matplotlib.pyplot as plt\n",
    "import numpy as np\n",
    "import pandas as pd"
   ]
  },
  {
   "cell_type": "code",
   "execution_count": null,
   "id": "e7833161",
   "metadata": {},
   "outputs": [],
   "source": [
    "data_path = os.path.join(\"..\", \"data\")\n",
    "skimmia_path = os.path.join(data_path, \"skimmia\")\n",
    "visem_path = os.path.join(data_path, \"visem\")"
   ]
  },
  {
   "cell_type": "code",
   "execution_count": null,
   "id": "503a52af",
   "metadata": {},
   "outputs": [],
   "source": [
    "skimmia_images_train_dir = os.path.join(skimmia_path, \"images/train\")\n",
    "skimmia_images_valid_dir = os.path.join(skimmia_path, \"images/valid\")\n",
    "skimmia_images_test_dir = os.path.join(skimmia_path, \"images/test\")\n",
    "\n",
    "visem_images_train_dir = os.path.join(visem_path, \"images/train\")\n",
    "visem_images_valid_dir = os.path.join(visem_path, \"images/valid\")\n",
    "visem_images_test_dir = os.path.join(visem_path, \"images/test\")\n",
    "\n",
    "\n",
    "print(\"Skimmia images - train:\", len(os.listdir(skimmia_images_train_dir)))\n",
    "print(\"Skimmia images - valid:\", len(os.listdir(skimmia_images_valid_dir)))\n",
    "print(\"Skimmia images - test:\", len(os.listdir(skimmia_images_test_dir)))\n",
    "\n",
    "print(\"Visem images - train:\", len(os.listdir(visem_images_train_dir)))\n",
    "print(\"Visem images - valid:\", len(os.listdir(visem_images_valid_dir)))\n",
    "print(\"Visem images - test:\", len(os.listdir(visem_images_test_dir)))"
   ]
  },
  {
   "cell_type": "code",
   "execution_count": null,
   "id": "b2a4fa20",
   "metadata": {},
   "outputs": [],
   "source": [
    "skimmia_annotations_path_train = os.path.join(skimmia_path, \"annotations/annotations_train.csv\")\n",
    "skimmia_annotations_path_valid = os.path.join(skimmia_path, \"annotations/annotations_valid.csv\")\n",
    "skimmia_annotations_path_test = os.path.join(skimmia_path, \"annotations/annotations_test.csv\")\n",
    "\n",
    "visem_annotations_path_train = os.path.join(visem_path, \"annotations/annotations_train.csv\")\n",
    "visem_annotations_path_valid = os.path.join(visem_path, \"annotations/annotations_valid.csv\")\n",
    "visem_annotations_path_test = os.path.join(visem_path, \"annotations/annotations_test.csv\")\n",
    "\n",
    "skimmia_df_train = pd.read_csv(skimmia_annotations_path_train)\n",
    "skimmia_df_valid = pd.read_csv(skimmia_annotations_path_valid)\n",
    "skimmia_df_test = pd.read_csv(skimmia_annotations_path_test)\n",
    "\n",
    "visem_df_train = pd.read_csv(visem_annotations_path_train)\n",
    "visem_df_valid = pd.read_csv(visem_annotations_path_valid)\n",
    "visem_df_test = pd.read_csv(visem_annotations_path_test)\n",
    "\n",
    "print(\"Skimmia annotations train shape:\", skimmia_df_train.shape)\n",
    "print(\"Skimmia annotations valid shape:\", skimmia_df_valid.shape)\n",
    "print(\"Skimmia annotations test shape:\", skimmia_df_test.shape)\n",
    "\n",
    "print(\"Visem annotations train shape:\", visem_df_train.shape)\n",
    "print(\"Visem annotations valid shape:\", visem_df_valid.shape)\n",
    "print(\"Visem annotations test shape:\", visem_df_test.shape)"
   ]
  },
  {
   "cell_type": "code",
   "execution_count": null,
   "id": "2f98ede7",
   "metadata": {},
   "outputs": [],
   "source": [
    "skimmia_df_train.head()"
   ]
  },
  {
   "cell_type": "code",
   "execution_count": null,
   "id": "00c7fc07",
   "metadata": {},
   "outputs": [],
   "source": [
    "print(\"Skimmia total samples:\", skimmia_df_train.shape[0] + skimmia_df_valid.shape[0] + skimmia_df_test.shape[0])\n",
    "print(\"Visem total samples:\", visem_df_train.shape[0] + visem_df_valid.shape[0] + visem_df_test.shape[0])"
   ]
  },
  {
   "cell_type": "code",
   "execution_count": null,
   "id": "12c20428",
   "metadata": {},
   "outputs": [],
   "source": [
    "display(skimmia_df_train[['class_id', 'width', 'height']].groupby('class_id').agg(['min','mean','max']).astype(int))\n",
    "display(skimmia_df_valid[['class_id', 'width', 'height']].groupby('class_id').agg(['min','mean','max']).astype(int))\n",
    "display(skimmia_df_test[['class_id', 'width', 'height']].groupby('class_id').agg(['min','mean','max']).astype(int))"
   ]
  },
  {
   "cell_type": "code",
   "execution_count": null,
   "id": "e2442099",
   "metadata": {},
   "outputs": [],
   "source": [
    "# 0 - sperm\n",
    "# 1 - cluster\n",
    "# 2 - small or pinhead \n",
    "display(visem_df_train[['class_id', 'width', 'height']].groupby('class_id').agg(['min','mean','max']).astype(int))\n",
    "display(visem_df_valid[['class_id', 'width', 'height']].groupby('class_id').agg(['min','mean','max']).astype(int))\n",
    "display(visem_df_test[['class_id', 'width', 'height']].groupby('class_id').agg(['min','mean','max']).astype(int))"
   ]
  },
  {
   "cell_type": "code",
   "execution_count": null,
   "id": "de1472c5",
   "metadata": {},
   "outputs": [],
   "source": [
    "skimmia_df = pd.concat([skimmia_df_train, skimmia_df_valid, skimmia_df_test], ignore_index=True)\n",
    "visem_df = pd.concat([visem_df_train, visem_df_valid, visem_df_test], ignore_index=True)"
   ]
  },
  {
   "cell_type": "code",
   "execution_count": null,
   "id": "9d1f5c70",
   "metadata": {},
   "outputs": [],
   "source": [
    "plots_dir_path = os.path.join(\"..\", \"plots\")\n",
    "plots_dir_path"
   ]
  },
  {
   "cell_type": "code",
   "execution_count": null,
   "metadata": {},
   "outputs": [],
   "source": []
  },
  {
   "cell_type": "code",
   "execution_count": null,
   "id": "b81c636e",
   "metadata": {},
   "outputs": [],
   "source": [
    "fig, (ax1, ax2) = plt.subplots(1, 2, figsize=(12, 5))\n",
    "\n",
    "skimmia_df.hist(column='width', bins=20, rwidth=0.9, color='skyblue', edgecolor='black', grid=False, ax=ax1)\n",
    "skimmia_df.hist(column='height', bins=20, rwidth=0.9, color='skyblue', edgecolor='black', grid=False, ax=ax2)\n",
    "\n",
    "ax1.set_title('Rozkład szerokości', fontsize=10)\n",
    "ax2.set_title('Rozkład wysokości', fontsize=10)\n",
    "\n",
    "plt.suptitle('Skimmia', fontsize=12)\n",
    "\n",
    "path = os.path.join(plots_dir_path, 'skimmia_bboxs_distribution.png')\n",
    "plt.savefig(path)\n",
    "\n",
    "plt.show()"
   ]
  },
  {
   "cell_type": "code",
   "execution_count": null,
   "id": "7ee674d7",
   "metadata": {},
   "outputs": [],
   "source": [
    "visem_labels = {0: \"sperm\", \n",
    "                1: \"cluster\", \n",
    "                2: \"small or pinhead\"}\n",
    "\n",
    "for class_id, label in visem_labels.items():\n",
    "    subset = visem_df[visem_df['class_id'] == class_id]   \n",
    "    \n",
    "    fig, (ax1, ax2) = plt.subplots(1, 2, figsize=(12, 5))\n",
    "\n",
    "    subset.hist(column='width', bins=15, rwidth=0.9, color='skyblue', edgecolor='black', grid=False, ax=ax1)\n",
    "    subset.hist(column='height', bins=15, rwidth=0.9, color='skyblue', edgecolor='black', grid=False, ax=ax2)\n",
    "\n",
    "    ax1.set_title('Rozkład szerokości', fontsize=10)\n",
    "    ax2.set_title('Rozkład wysokości', fontsize=10)\n",
    "\n",
    "    plt.suptitle(f'Visem ({label})', fontsize=12)\n",
    "\n",
    "    path = os.path.join(plots_dir_path, f'visem_bboxs_distribution_{label}.png')\n",
    "    plt.savefig(path)\n",
    "\n",
    "    plt.show()"
   ]
  },
  {
   "cell_type": "code",
   "execution_count": null,
   "id": "0ce36421",
   "metadata": {},
   "outputs": [],
   "source": []
  }
 ],
 "metadata": {
  "kernelspec": {
   "display_name": "GPU",
   "language": "python",
   "name": "python3"
  },
  "language_info": {
   "codemirror_mode": {
    "name": "ipython",
    "version": 3
   },
   "file_extension": ".py",
   "mimetype": "text/x-python",
   "name": "python",
   "nbconvert_exporter": "python",
   "pygments_lexer": "ipython3",
   "version": "3.8.18"
  }
 },
 "nbformat": 4,
 "nbformat_minor": 5
}
